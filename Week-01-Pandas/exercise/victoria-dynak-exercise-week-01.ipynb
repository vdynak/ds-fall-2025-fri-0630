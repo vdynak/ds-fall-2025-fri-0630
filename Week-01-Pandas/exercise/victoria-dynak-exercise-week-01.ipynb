{
 "cells": [
  {
   "cell_type": "markdown",
   "metadata": {},
   "source": [
    "# First print your name in the cell below then save this file. (or something nice about your instructor)"
   ]
  },
  {
   "cell_type": "code",
   "execution_count": 32,
   "metadata": {},
   "outputs": [
    {
     "name": "stdout",
     "output_type": "stream",
     "text": [
      "Victoria Dynak\n"
     ]
    }
   ],
   "source": [
    "# In this cell print your name.\n",
    "print(\"Victoria Dynak\")"
   ]
  },
  {
   "cell_type": "markdown",
   "metadata": {},
   "source": [
    "# Data wrangling with Pandas exercise\n",
    "* For this exercise we will be using the `listings.csv` data file."
   ]
  },
  {
   "cell_type": "code",
   "execution_count": 33,
   "metadata": {},
   "outputs": [],
   "source": [
    "import pandas as pd\n",
    "import numpy as np"
   ]
  },
  {
   "cell_type": "markdown",
   "metadata": {},
   "source": [
    "# Load in the data file using `pd.read_csv()`"
   ]
  },
  {
   "cell_type": "code",
   "execution_count": 34,
   "metadata": {},
   "outputs": [
    {
     "data": {
      "text/html": [
       "<div>\n",
       "<style scoped>\n",
       "    .dataframe tbody tr th:only-of-type {\n",
       "        vertical-align: middle;\n",
       "    }\n",
       "\n",
       "    .dataframe tbody tr th {\n",
       "        vertical-align: top;\n",
       "    }\n",
       "\n",
       "    .dataframe thead th {\n",
       "        text-align: right;\n",
       "    }\n",
       "</style>\n",
       "<table border=\"1\" class=\"dataframe\">\n",
       "  <thead>\n",
       "    <tr style=\"text-align: right;\">\n",
       "      <th></th>\n",
       "      <th>id</th>\n",
       "      <th>name</th>\n",
       "      <th>host_id</th>\n",
       "      <th>host_name</th>\n",
       "      <th>neighbourhood_group</th>\n",
       "      <th>neighbourhood</th>\n",
       "      <th>latitude</th>\n",
       "      <th>longitude</th>\n",
       "      <th>room_type</th>\n",
       "      <th>price</th>\n",
       "      <th>minimum_nights</th>\n",
       "      <th>number_of_reviews</th>\n",
       "      <th>last_review</th>\n",
       "      <th>reviews_per_month</th>\n",
       "      <th>calculated_host_listings_count</th>\n",
       "      <th>availability_365</th>\n",
       "    </tr>\n",
       "  </thead>\n",
       "  <tbody>\n",
       "    <tr>\n",
       "      <th>0</th>\n",
       "      <td>2595</td>\n",
       "      <td>Skylit Midtown Castle</td>\n",
       "      <td>2845</td>\n",
       "      <td>Jennifer</td>\n",
       "      <td>Manhattan</td>\n",
       "      <td>Midtown</td>\n",
       "      <td>40.75362</td>\n",
       "      <td>-73.98377</td>\n",
       "      <td>Entire home/apt</td>\n",
       "      <td>175</td>\n",
       "      <td>3</td>\n",
       "      <td>48</td>\n",
       "      <td>2019-11-04</td>\n",
       "      <td>0.37</td>\n",
       "      <td>2</td>\n",
       "      <td>365</td>\n",
       "    </tr>\n",
       "    <tr>\n",
       "      <th>1</th>\n",
       "      <td>3831</td>\n",
       "      <td>Whole flr w/private bdrm, bath &amp; kitchen(pls r...</td>\n",
       "      <td>4869</td>\n",
       "      <td>LisaRoxanne</td>\n",
       "      <td>Brooklyn</td>\n",
       "      <td>Clinton Hill</td>\n",
       "      <td>40.68514</td>\n",
       "      <td>-73.95976</td>\n",
       "      <td>Entire home/apt</td>\n",
       "      <td>75</td>\n",
       "      <td>1</td>\n",
       "      <td>340</td>\n",
       "      <td>2020-08-01</td>\n",
       "      <td>4.75</td>\n",
       "      <td>1</td>\n",
       "      <td>265</td>\n",
       "    </tr>\n",
       "    <tr>\n",
       "      <th>2</th>\n",
       "      <td>5121</td>\n",
       "      <td>BlissArtsSpace!</td>\n",
       "      <td>7356</td>\n",
       "      <td>Garon</td>\n",
       "      <td>Brooklyn</td>\n",
       "      <td>Bedford-Stuyvesant</td>\n",
       "      <td>40.68688</td>\n",
       "      <td>-73.95596</td>\n",
       "      <td>Private room</td>\n",
       "      <td>60</td>\n",
       "      <td>29</td>\n",
       "      <td>50</td>\n",
       "      <td>2019-12-02</td>\n",
       "      <td>0.37</td>\n",
       "      <td>1</td>\n",
       "      <td>365</td>\n",
       "    </tr>\n",
       "    <tr>\n",
       "      <th>3</th>\n",
       "      <td>5136</td>\n",
       "      <td>Spacious Brooklyn Duplex, Patio + Garden</td>\n",
       "      <td>7378</td>\n",
       "      <td>Rebecca</td>\n",
       "      <td>Brooklyn</td>\n",
       "      <td>Sunset Park</td>\n",
       "      <td>40.66120</td>\n",
       "      <td>-73.99423</td>\n",
       "      <td>Entire home/apt</td>\n",
       "      <td>175</td>\n",
       "      <td>14</td>\n",
       "      <td>1</td>\n",
       "      <td>2014-01-02</td>\n",
       "      <td>0.01</td>\n",
       "      <td>1</td>\n",
       "      <td>295</td>\n",
       "    </tr>\n",
       "    <tr>\n",
       "      <th>4</th>\n",
       "      <td>5178</td>\n",
       "      <td>Large Furnished Room Near B'way</td>\n",
       "      <td>8967</td>\n",
       "      <td>Shunichi</td>\n",
       "      <td>Manhattan</td>\n",
       "      <td>Hell's Kitchen</td>\n",
       "      <td>40.76489</td>\n",
       "      <td>-73.98493</td>\n",
       "      <td>Private room</td>\n",
       "      <td>65</td>\n",
       "      <td>2</td>\n",
       "      <td>473</td>\n",
       "      <td>2020-03-15</td>\n",
       "      <td>3.44</td>\n",
       "      <td>1</td>\n",
       "      <td>340</td>\n",
       "    </tr>\n",
       "  </tbody>\n",
       "</table>\n",
       "</div>"
      ],
      "text/plain": [
       "     id                                               name  host_id  \\\n",
       "0  2595                              Skylit Midtown Castle     2845   \n",
       "1  3831  Whole flr w/private bdrm, bath & kitchen(pls r...     4869   \n",
       "2  5121                                    BlissArtsSpace!     7356   \n",
       "3  5136           Spacious Brooklyn Duplex, Patio + Garden     7378   \n",
       "4  5178                   Large Furnished Room Near B'way　     8967   \n",
       "\n",
       "     host_name neighbourhood_group       neighbourhood  latitude  longitude  \\\n",
       "0     Jennifer           Manhattan             Midtown  40.75362  -73.98377   \n",
       "1  LisaRoxanne            Brooklyn        Clinton Hill  40.68514  -73.95976   \n",
       "2        Garon            Brooklyn  Bedford-Stuyvesant  40.68688  -73.95596   \n",
       "3      Rebecca            Brooklyn         Sunset Park  40.66120  -73.99423   \n",
       "4     Shunichi           Manhattan      Hell's Kitchen  40.76489  -73.98493   \n",
       "\n",
       "         room_type  price  minimum_nights  number_of_reviews last_review  \\\n",
       "0  Entire home/apt    175               3                 48  2019-11-04   \n",
       "1  Entire home/apt     75               1                340  2020-08-01   \n",
       "2     Private room     60              29                 50  2019-12-02   \n",
       "3  Entire home/apt    175              14                  1  2014-01-02   \n",
       "4     Private room     65               2                473  2020-03-15   \n",
       "\n",
       "   reviews_per_month  calculated_host_listings_count  availability_365  \n",
       "0               0.37                               2               365  \n",
       "1               4.75                               1               265  \n",
       "2               0.37                               1               365  \n",
       "3               0.01                               1               295  \n",
       "4               3.44                               1               340  "
      ]
     },
     "execution_count": 34,
     "metadata": {},
     "output_type": "execute_result"
    }
   ],
   "source": [
    "# Load data here\n",
    "df = pd.read_csv(\"/workspaces/ds-fall-2025-fri-0630/Week-01-Pandas/data/listings.csv\")\n",
    "df.head()"
   ]
  },
  {
   "cell_type": "markdown",
   "metadata": {},
   "source": [
    "## Exercise 2 - Filtering\n",
    "\n",
    "Return the following subsets of the dataframe.\n",
    "\n",
    "1. How many listings are there with a price less than 100? \n",
    "\n",
    "\n",
    "2. Find how many listings there are in just Brooklyn.\n",
    "\n",
    "\n",
    "3. Find how many listings there are in Brooklyn with a price less than 100.\n",
    "\n",
    "\n",
    "4. Using `.isin()` select anyone that has the host name of Michael, David, John, and Daniel.\n",
    "\n",
    "\n",
    "5. Create a new column called `adjusted_price` that has $100 added to every listing in Williamsburg.  The prices for all other listings should be the same as the were before. \n",
    "\n",
    "\n",
    "6. What % of the rooms are private, and what % of the rooms are shared.  \n",
    "    * Hint, use `.value_counts()`\n"
   ]
  },
  {
   "cell_type": "code",
   "execution_count": 35,
   "metadata": {},
   "outputs": [
    {
     "name": "stdout",
     "output_type": "stream",
     "text": [
      "22778\n"
     ]
    }
   ],
   "source": [
    "# 1. How many listings are there with a price less than 100? \n",
    "listings_under_100 = (df[\"price\"] < 100).sum()\n",
    "print(listings_under_100)"
   ]
  },
  {
   "cell_type": "code",
   "execution_count": 36,
   "metadata": {},
   "outputs": [
    {
     "name": "stdout",
     "output_type": "stream",
     "text": [
      "46527\n"
     ]
    }
   ],
   "source": [
    "# 2. Make a new DataFrame of listings in Brooklyn named `df_bk` \n",
    "# and find how many listings in just Brooklyn.\n",
    "df_bk = (df[\"neighbourhood_group\"] == \"Brooklyn\")\n",
    "brooklyn_count = len(df_bk)\n",
    "print(brooklyn_count)"
   ]
  },
  {
   "cell_type": "code",
   "execution_count": 37,
   "metadata": {},
   "outputs": [
    {
     "name": "stdout",
     "output_type": "stream",
     "text": [
      "10473\n"
     ]
    }
   ],
   "source": [
    "# 3. Find how many listings there are in Brooklyn with a price less than 100.\n",
    "#bk_listings_under_100 = df_bk[df_bk[\"price\"] < 100]\n",
    "#bk_listings_under_100_count = len(bk_listings_under_100)\n",
    "bk_listings_under_100 = df[(df[\"neighbourhood_group\"] == \"Brooklyn\") & (df[\"price\"] < 100)]\n",
    "bk_listings_under_100_count = len(bk_listings_under_100)\n",
    "print(bk_listings_under_100_count)"
   ]
  },
  {
   "cell_type": "code",
   "execution_count": 38,
   "metadata": {},
   "outputs": [
    {
     "name": "stdout",
     "output_type": "stream",
     "text": [
      "1258\n"
     ]
    }
   ],
   "source": [
    "# 4. Using `.isin()` select anyone that has the host name of Michael, David, John, and Daniel.\n",
    "# How many total are there that have those names\n",
    "hosts = [\"Michael\", \"David\", \"John\", \"Daniel\"]\n",
    "hosts_selected = df[df[\"host_name\"].isin(hosts)]\n",
    "host_counts = len(hosts_selected)\n",
    "print(host_counts)"
   ]
  },
  {
   "cell_type": "code",
   "execution_count": 39,
   "metadata": {},
   "outputs": [
    {
     "name": "stdout",
     "output_type": "stream",
     "text": [
      "                neighbourhood  price  adjusted_price\n",
      "0                     Midtown    175             175\n",
      "1                Clinton Hill     75              75\n",
      "2          Bedford-Stuyvesant     60              60\n",
      "3                 Sunset Park    175             175\n",
      "4              Hell's Kitchen     65              65\n",
      "5             Upper West Side     75              75\n",
      "6                   Chinatown    140             140\n",
      "7                West Village    160             160\n",
      "8                 South Slope     88              88\n",
      "9             Upper West Side     85              85\n",
      "10               West Village     65              65\n",
      "11               Williamsburg    109             209\n",
      "12                East Harlem    239             239\n",
      "13                Fort Greene    182             182\n",
      "14                East Harlem     96              96\n",
      "15               Williamsburg    299             399\n",
      "16         Bedford-Stuyvesant    120             120\n",
      "17            Windsor Terrace    135             135\n",
      "18                     Inwood     86              86\n",
      "19               East Village    220             220\n",
      "20                     Harlem     55              55\n",
      "21         Bedford-Stuyvesant     70              70\n",
      "22                South Slope     88              88\n",
      "23                   Flatbush    150             150\n",
      "24            Lower East Side     40              40\n",
      "25               East Village     40              40\n",
      "26                     Harlem    150             150\n",
      "27  Prospect-Lefferts Gardens     95              95\n",
      "28           Long Island City    130             130\n",
      "29         Bedford-Stuyvesant    100             100\n",
      "30         Bedford-Stuyvesant    120             120\n",
      "31                    Jamaica     75              75\n",
      "32                Fort Greene     70              70\n",
      "33                    Chelsea    150             150\n",
      "34         Bedford-Stuyvesant     81              81\n",
      "35               Williamsburg    131             231\n",
      "36                 Greenpoint    150             150\n",
      "37                   Kips Bay    200             200\n",
      "38               Williamsburg    175             275\n",
      "39            Lower East Side    110             110\n"
     ]
    }
   ],
   "source": [
    "# 5. Create a new column called `adjusted_price` that has $100 added to every listing in Williamsburg.  \n",
    "# The prices for all other listings should be the same as the were before. \n",
    "df[\"adjusted_price\"] = np.where(\n",
    "    df[\"neighbourhood\"] == \"Williamsburg\",\n",
    "    df[\"price\"] + 100, \n",
    "    df[\"price\"]\n",
    ")\n",
    "print(df[[\"neighbourhood\", \"price\", \"adjusted_price\"]].head(40))"
   ]
  },
  {
   "cell_type": "code",
   "execution_count": 40,
   "metadata": {},
   "outputs": [
    {
     "name": "stdout",
     "output_type": "stream",
     "text": [
      "  Room Type  Percentage\n",
      "0   Private   45.444581\n",
      "1    Shared    2.121349\n"
     ]
    }
   ],
   "source": [
    "# 6. What % of the rooms are private, and what % of the rooms are shared.  \n",
    "room_percents = df[\"room_type\"].value_counts(normalize = True) * 100\n",
    "private_percents = room_percents.get(\"Private room\", 0.0)\n",
    "shared_percents = room_percents.get(\"Shared room\", 0.0)\n",
    "print(pd.DataFrame({\n",
    "    \"Room Type\": [\"Private\", \"Shared\"],\n",
    "    \"Percentage\": [private_percents, shared_percents]\n",
    "}))"
   ]
  },
  {
   "cell_type": "markdown",
   "metadata": {},
   "source": [
    "# Exercise 3 - Grouping\n",
    "\n",
    "1. Using `groupby`, count how many listings are in each neighbourhood_group.\n",
    "\n",
    "\n",
    "2. Using `groupby`, find the mean price for each of the neighbourhood_groups. \n",
    "\n",
    "\n",
    "3. Using `groupby` and `.agg()`, find the min and max price for each of the neighbourhood_groups. \n",
    "\n",
    "\n",
    "4. Using `groupby`, find the median price for each room type in each neighbourhood_group.\n",
    "\n",
    "\n",
    "5. Using `groupby` and `.agg()`, find the count, min, max, mean, median, and std of the prices for each room type in each neighbourhood_group."
   ]
  },
  {
   "cell_type": "code",
   "execution_count": 41,
   "metadata": {},
   "outputs": [
    {
     "name": "stdout",
     "output_type": "stream",
     "text": [
      "neighbourhood_group\n",
      "Bronx             1183\n",
      "Brooklyn         18632\n",
      "Manhattan        20580\n",
      "Queens            5791\n",
      "Staten Island      341\n",
      "Name: id, dtype: int64\n"
     ]
    }
   ],
   "source": [
    "# 1. Using `groupby`, count how many listings are in each neighbourhood_group.\n",
    "counts_by_borough = df.groupby(\"neighbourhood_group\")[\"id\"].count()\n",
    "print(counts_by_borough)"
   ]
  },
  {
   "cell_type": "code",
   "execution_count": 42,
   "metadata": {},
   "outputs": [
    {
     "name": "stdout",
     "output_type": "stream",
     "text": [
      "neighbourhood_group\n",
      "Bronx             92.751479\n",
      "Brooklyn         120.225258\n",
      "Manhattan        191.880466\n",
      "Queens            99.754965\n",
      "Staten Island    110.947214\n",
      "Name: price, dtype: float64\n"
     ]
    }
   ],
   "source": [
    "# 2. Using `groupby`, find the mean price for each of the neighbourhood_groups. \n",
    "mean_price_per_borough = df.groupby(\"neighbourhood_group\")[\"price\"].mean()\n",
    "print(mean_price_per_borough)"
   ]
  },
  {
   "cell_type": "code",
   "execution_count": 43,
   "metadata": {},
   "outputs": [
    {
     "name": "stdout",
     "output_type": "stream",
     "text": [
      "room_type\n",
      "Entire home/apt    199.395950\n",
      "Hotel room         275.015075\n",
      "Private room        91.453084\n",
      "Shared room         87.063830\n",
      "Name: price, dtype: float64\n"
     ]
    }
   ],
   "source": [
    "# 2.5. Using `groupby`, find the mean price for each room_type. \n",
    "mean_room_price = df.groupby(\"room_type\")[\"price\"].mean()\n",
    "print(mean_room_price)"
   ]
  },
  {
   "cell_type": "code",
   "execution_count": 44,
   "metadata": {},
   "outputs": [
    {
     "name": "stdout",
     "output_type": "stream",
     "text": [
      "                     min    max\n",
      "neighbourhood_group            \n",
      "Bronx                 16   1404\n",
      "Brooklyn               0  10000\n",
      "Manhattan              0  10000\n",
      "Queens                 0  10000\n",
      "Staten Island         19   1200\n"
     ]
    }
   ],
   "source": [
    "# 3. Using `groupby` and `.agg()`, find the min and max price for each of the neighbourhood_groups. \n",
    "mm_borough = df.groupby(\"neighbourhood_group\")[\"price\"].agg([\"min\", \"max\"])\n",
    "print(mm_borough)"
   ]
  },
  {
   "cell_type": "code",
   "execution_count": 45,
   "metadata": {},
   "outputs": [
    {
     "name": "stdout",
     "output_type": "stream",
     "text": [
      "neighbourhood_group  room_type      \n",
      "Bronx                Entire home/apt    138.004819\n",
      "                     Private room        68.419668\n",
      "                     Shared room         66.391304\n",
      "Brooklyn             Entire home/apt    171.587687\n",
      "                     Hotel room         147.300000\n",
      "                     Private room        71.291189\n",
      "                     Shared room         57.870091\n",
      "Manhattan            Entire home/apt    231.335572\n",
      "                     Hotel room         292.515670\n",
      "                     Private room       128.277069\n",
      "                     Shared room        111.735084\n",
      "Queens               Entire home/apt    150.168900\n",
      "                     Hotel room         139.058824\n",
      "                     Private room        69.972564\n",
      "                     Shared room         89.891892\n",
      "Staten Island        Entire home/apt    151.720930\n",
      "                     Private room        70.312883\n",
      "                     Shared room         46.000000\n",
      "Name: price, dtype: float64\n"
     ]
    }
   ],
   "source": [
    "# 4. Using `groupby`, find the mean price for each room_type in each neighbourhood_group.\n",
    "mean_room_type_borough = df.groupby([\"neighbourhood_group\", \"room_type\"])[\"price\"].mean()\n",
    "print(mean_room_type_borough)"
   ]
  },
  {
   "cell_type": "code",
   "execution_count": 46,
   "metadata": {},
   "outputs": [
    {
     "name": "stdout",
     "output_type": "stream",
     "text": [
      "                                     count  min    max        mean  median  \\\n",
      "neighbourhood_group room_type                                                \n",
      "Bronx               Entire home/apt    415   25   1404  138.004819   103.0   \n",
      "                    Private room       722   16    700   68.419668    55.0   \n",
      "                    Shared room         46   20    800   66.391304    44.0   \n",
      "Brooklyn            Entire home/apt   9112   20  10000  171.587687   135.0   \n",
      "                    Hotel room          30    0    399  147.300000   129.0   \n",
      "                    Private room      9159   10   2500   71.291189    60.0   \n",
      "                    Shared room        331   15   1500   57.870091    36.0   \n",
      "Manhattan           Entire home/apt  12209    0  10000  231.335572   165.0   \n",
      "                    Hotel room         351    0   2211  292.515670   210.0   \n",
      "                    Private room      7601   10  10000  128.277069    80.0   \n",
      "                    Shared room        419   10  10000  111.735084    60.0   \n",
      "Queens              Entire home/apt   2090   10  10000  150.168900   115.0   \n",
      "                    Hotel room          17    0    249  139.058824   149.0   \n",
      "                    Private room      3499   18   9000   69.972564    55.0   \n",
      "                    Shared room        185   14   3000   89.891892    40.0   \n",
      "Staten Island       Entire home/apt    172   39   1200  151.720930   111.0   \n",
      "                    Private room       163   20    800   70.312883    55.0   \n",
      "                    Shared room          6   19     82   46.000000    38.0   \n",
      "\n",
      "                                            std  \n",
      "neighbourhood_group room_type                    \n",
      "Bronx               Entire home/apt  126.032106  \n",
      "                    Private room      57.337866  \n",
      "                    Shared room      114.442703  \n",
      "Brooklyn            Entire home/apt  236.732843  \n",
      "                    Hotel room        91.153206  \n",
      "                    Private room      69.023165  \n",
      "                    Shared room       92.217618  \n",
      "Manhattan           Entire home/apt  410.306439  \n",
      "                    Hotel room       315.924085  \n",
      "                    Private room     448.677306  \n",
      "                    Shared room      502.728868  \n",
      "Queens              Entire home/apt  252.606739  \n",
      "                    Hotel room        50.743806  \n",
      "                    Private room     163.814468  \n",
      "                    Shared room      275.675158  \n",
      "Staten Island       Entire home/apt  147.518392  \n",
      "                    Private room      70.759593  \n",
      "                    Shared room       28.446441  \n"
     ]
    }
   ],
   "source": [
    "# 5. Using `groupby` and `.agg()`, find the count, min, max, mean, median, and std of the prices \n",
    "# for each room type in each neighbourhood_group.\n",
    "borough_room_type_stats = (df.groupby([\"neighbourhood_group\", \"room_type\"])[\"price\"].agg(count = \"count\", min = \"min\", max = \"max\", mean = \"mean\", median = \"median\", std = \"std\"))\n",
    "print(borough_room_type_stats)"
   ]
  },
  {
   "cell_type": "markdown",
   "metadata": {},
   "source": [
    "# Load, Merge, and Export files.\n",
    "1. Load the `prices.csv` and the `n_listings.csv`\n",
    "    * Having an error..? Inspect the actual csv file if you're having trouble\n",
    "\n",
    "2. Do join that keeps all the records for each table.\n",
    "    * Neighbourhood groups should include ['Bronx', 'Brooklyn', 'Manhattan', 'Queens', 'Staten Island',\n",
    "       'LongIsland']\n",
    "\n",
    "       \n",
    "3. Save your joined csv as `joined.csv` into the data folder. \n",
    "\n",
    "\n",
    "4. Load your saved table and see if it looks the same or different that the DataFrame you used to create it. "
   ]
  },
  {
   "cell_type": "code",
   "execution_count": 47,
   "metadata": {},
   "outputs": [
    {
     "name": "stdout",
     "output_type": "stream",
     "text": [
      "  neighbourhood_group   mean_price\n",
      "0               Bronx    92.751479\n",
      "1            Brooklyn   120.225258\n",
      "2           Manhattan   191.880466\n",
      "3              Queens    99.754965\n",
      "4       Staten Island   110.947214\n",
      "  neighbourhood_group  n_listings\n",
      "0               Bronx        1183\n",
      "1            Brooklyn       18632\n",
      "2           Manhattan       20580\n",
      "3          LongIsland        4121\n"
     ]
    }
   ],
   "source": [
    "# 1. Load the `prices.csv` and the `n_listings.csv`\n",
    "df_prices = pd.read_csv(\"/workspaces/ds-fall-2025-fri-0630/Week-01-Pandas/data/prices.csv\")\n",
    "df_n_listings = pd.read_csv(\"/workspaces/ds-fall-2025-fri-0630/Week-01-Pandas/data/n_listings.csv\", delimiter = \";\")\n",
    "print(df_prices.head())\n",
    "print(df_n_listings.head())"
   ]
  },
  {
   "cell_type": "code",
   "execution_count": 48,
   "metadata": {},
   "outputs": [
    {
     "name": "stdout",
     "output_type": "stream",
     "text": [
      "['neighbourhood_group', ' mean_price']\n",
      "['neighbourhood_group', 'n_listings']\n",
      "  neighbourhood_group   mean_price  n_listings\n",
      "0               Bronx    92.751479      1183.0\n",
      "1            Brooklyn   120.225258     18632.0\n",
      "2          LongIsland          NaN      4121.0\n",
      "3           Manhattan   191.880466     20580.0\n",
      "4              Queens    99.754965         NaN\n"
     ]
    }
   ],
   "source": [
    "# 2. Do join that keeps all the records for each table.\n",
    "print(df_prices.columns.tolist())\n",
    "print(df_n_listings.columns.tolist())\n",
    "merged = pd.merge(df_prices, df_n_listings, on = \"neighbourhood_group\", how = \"outer\")\n",
    "print(merged.head())\n"
   ]
  },
  {
   "cell_type": "code",
   "execution_count": 49,
   "metadata": {},
   "outputs": [],
   "source": [
    "# 3. Save your joined csv as `joined.csv` into the data folder.\n",
    "merged.to_csv(\"/workspaces/ds-fall-2025-fri-0630/Week-01-Pandas/data/joined.csv\", index = False)"
   ]
  },
  {
   "cell_type": "code",
   "execution_count": 50,
   "metadata": {},
   "outputs": [
    {
     "name": "stdout",
     "output_type": "stream",
     "text": [
      "  neighbourhood_group   mean_price  n_listings\n",
      "0               Bronx    92.751479      1183.0\n",
      "1            Brooklyn   120.225258     18632.0\n",
      "2          LongIsland          NaN      4121.0\n",
      "3           Manhattan   191.880466     20580.0\n",
      "4              Queens    99.754965         NaN\n"
     ]
    }
   ],
   "source": [
    "# 4. Load your newly saved file, see if it looks the same.  If not, try saving with argument `index=False`\n",
    "merged_check = pd.read_csv(\"/workspaces/ds-fall-2025-fri-0630/Week-01-Pandas/data/joined.csv\")\n",
    "print(merged_check.head())"
   ]
  },
  {
   "cell_type": "markdown",
   "metadata": {},
   "source": [
    "# Extra Credit\n",
    "Every question below this cell is extra credit and optional."
   ]
  },
  {
   "cell_type": "markdown",
   "metadata": {},
   "source": [
    "### 1. (Easy) Explore this new PandasAI Package and tell me what its all about because I've never used it. \n",
    "* https://www.youtube.com/watch?v=5w6eZaoDVVk&ab_channel=CodingIsFun  \n",
    "* See if you can use it on the listings.csv to find out some cool info. or answer some of the questions above. "
   ]
  },
  {
   "cell_type": "markdown",
   "metadata": {},
   "source": [
    "PandasAi uses LLM's to auto gen and run pandas code, so you can perform queries and visualizations with natural langauge."
   ]
  },
  {
   "cell_type": "code",
   "execution_count": 51,
   "metadata": {},
   "outputs": [
    {
     "name": "stdout",
     "output_type": "stream",
     "text": [
      "Collecting pandasai\n",
      "  Using cached pandasai-2.3.2-py3-none-any.whl.metadata (10 kB)\n",
      "Collecting astor<0.9.0,>=0.8.1 (from pandasai)\n",
      "  Using cached astor-0.8.1-py2.py3-none-any.whl.metadata (4.2 kB)\n",
      "Collecting duckdb<2.0.0,>=1.0.0 (from pandasai)\n",
      "  Using cached duckdb-1.3.2-cp312-cp312-manylinux_2_27_x86_64.manylinux_2_28_x86_64.whl.metadata (7.0 kB)\n",
      "Collecting faker<20.0.0,>=19.12.0 (from pandasai)\n",
      "  Using cached Faker-19.13.0-py3-none-any.whl.metadata (15 kB)\n",
      "Requirement already satisfied: jinja2<4.0.0,>=3.1.3 in /home/codespace/.local/lib/python3.12/site-packages (from pandasai) (3.1.6)\n",
      "Requirement already satisfied: matplotlib<4.0.0,>=3.7.1 in /home/codespace/.local/lib/python3.12/site-packages (from pandasai) (3.10.3)\n",
      "Collecting openai<2 (from pandasai)\n",
      "  Using cached openai-1.102.0-py3-none-any.whl.metadata (29 kB)\n",
      "Collecting pandas==1.5.3 (from pandasai)\n",
      "  Using cached pandas-1.5.3.tar.gz (5.2 MB)\n",
      "  Installing build dependencies ... \u001b[?25ldone\n",
      "\u001b[?25h  Getting requirements to build wheel ... \u001b[?25l\\\u001b[?25canceled\n",
      "^C\n",
      "\u001b[31mERROR: Operation cancelled by user\u001b[0m\u001b[31m\n",
      "\u001b[0m"
     ]
    }
   ],
   "source": [
    "!pip install pandasai"
   ]
  },
  {
   "cell_type": "code",
   "execution_count": null,
   "metadata": {},
   "outputs": [],
   "source": [
    "from pandasai import PandasAI\n",
    "from pandasai.llm.openai import OpenAI\n",
    "llm = OpenAI(api_token = \"\")"
   ]
  },
  {
   "cell_type": "code",
   "execution_count": null,
   "metadata": {},
   "outputs": [],
   "source": [
    "pandas_ai = PandasAI(llm, conversational = False)"
   ]
  },
  {
   "cell_type": "code",
   "execution_count": null,
   "metadata": {},
   "outputs": [],
   "source": [
    "df = pd.read_csv(\"/workspaces/ds-fall-2025-fri-0630/Week-01-Pandas/data/listings.csv\")"
   ]
  },
  {
   "cell_type": "code",
   "execution_count": null,
   "metadata": {},
   "outputs": [],
   "source": [
    "answer = pandas_ai.run(df, \"What is the average price of listings in Brooklyn?\")\n",
    "print(answer)"
   ]
  },
  {
   "cell_type": "markdown",
   "metadata": {},
   "source": [
    "### 2. (Very Easy) Find other cool Panda packages / add ons and show us what they can do well. And how you installed them. "
   ]
  },
  {
   "cell_type": "code",
   "execution_count": 52,
   "metadata": {},
   "outputs": [
    {
     "name": "stdout",
     "output_type": "stream",
     "text": [
      "Requirement already satisfied: pandas_market_calendars in /usr/local/python/3.12.1/lib/python3.12/site-packages (5.1.1)\n",
      "Requirement already satisfied: pandas>=1.1 in /home/codespace/.local/lib/python3.12/site-packages (from pandas_market_calendars) (2.3.1)\n",
      "Requirement already satisfied: tzdata in /home/codespace/.local/lib/python3.12/site-packages (from pandas_market_calendars) (2025.2)\n",
      "Requirement already satisfied: python-dateutil in /home/codespace/.local/lib/python3.12/site-packages (from pandas_market_calendars) (2.9.0.post0)\n",
      "Requirement already satisfied: exchange-calendars>=3.3 in /usr/local/python/3.12.1/lib/python3.12/site-packages (from pandas_market_calendars) (4.11.1)\n",
      "Requirement already satisfied: numpy in /home/codespace/.local/lib/python3.12/site-packages (from exchange-calendars>=3.3->pandas_market_calendars) (2.3.1)\n",
      "Requirement already satisfied: pyluach in /usr/local/python/3.12.1/lib/python3.12/site-packages (from exchange-calendars>=3.3->pandas_market_calendars) (2.2.0)\n",
      "Requirement already satisfied: toolz in /usr/local/python/3.12.1/lib/python3.12/site-packages (from exchange-calendars>=3.3->pandas_market_calendars) (1.0.0)\n",
      "Requirement already satisfied: korean_lunar_calendar in /usr/local/python/3.12.1/lib/python3.12/site-packages (from exchange-calendars>=3.3->pandas_market_calendars) (0.3.1)\n",
      "Requirement already satisfied: pytz>=2020.1 in /home/codespace/.local/lib/python3.12/site-packages (from pandas>=1.1->pandas_market_calendars) (2025.2)\n",
      "Requirement already satisfied: six>=1.5 in /home/codespace/.local/lib/python3.12/site-packages (from python-dateutil->pandas_market_calendars) (1.17.0)\n",
      "\n",
      "\u001b[1m[\u001b[0m\u001b[34;49mnotice\u001b[0m\u001b[1;39;49m]\u001b[0m\u001b[39;49m A new release of pip is available: \u001b[0m\u001b[31;49m25.1.1\u001b[0m\u001b[39;49m -> \u001b[0m\u001b[32;49m25.2\u001b[0m\n",
      "\u001b[1m[\u001b[0m\u001b[34;49mnotice\u001b[0m\u001b[1;39;49m]\u001b[0m\u001b[39;49m To update, run: \u001b[0m\u001b[32;49mpython3 -m pip install --upgrade pip\u001b[0m\n"
     ]
    }
   ],
   "source": [
    "!pip install pandas_market_calendars"
   ]
  },
  {
   "cell_type": "code",
   "execution_count": 53,
   "metadata": {},
   "outputs": [],
   "source": [
    "import pandas_market_calendars as mcal"
   ]
  },
  {
   "cell_type": "code",
   "execution_count": 54,
   "metadata": {},
   "outputs": [
    {
     "name": "stdout",
     "output_type": "stream",
     "text": [
      "                         market_open              market_close\n",
      "2025-08-01 2025-08-01 13:30:00+00:00 2025-08-01 20:00:00+00:00\n",
      "2025-08-04 2025-08-04 13:30:00+00:00 2025-08-04 20:00:00+00:00\n",
      "2025-08-05 2025-08-05 13:30:00+00:00 2025-08-05 20:00:00+00:00\n",
      "2025-08-06 2025-08-06 13:30:00+00:00 2025-08-06 20:00:00+00:00\n",
      "2025-08-07 2025-08-07 13:30:00+00:00 2025-08-07 20:00:00+00:00\n"
     ]
    }
   ],
   "source": [
    "nasdaq = mcal.get_calendar(\"NASDAQ\")\n",
    "schedule = nasdaq.schedule(start_date=\"2025-08-01\", end_date=\"2025-08-31\")\n",
    "print(schedule.head())"
   ]
  },
  {
   "cell_type": "code",
   "execution_count": 55,
   "metadata": {},
   "outputs": [
    {
     "name": "stdout",
     "output_type": "stream",
     "text": [
      "DatetimeIndex(['2025-08-01', '2025-08-04', '2025-08-05', '2025-08-06',\n",
      "               '2025-08-07', '2025-08-08', '2025-08-11', '2025-08-12',\n",
      "               '2025-08-13', '2025-08-14', '2025-08-15', '2025-08-18',\n",
      "               '2025-08-19', '2025-08-20', '2025-08-21', '2025-08-22',\n",
      "               '2025-08-25', '2025-08-26', '2025-08-27', '2025-08-28',\n",
      "               '2025-08-29'],\n",
      "              dtype='datetime64[ns]', freq=None)\n"
     ]
    }
   ],
   "source": [
    "sessions = schedule.index\n",
    "print(sessions)"
   ]
  },
  {
   "cell_type": "markdown",
   "metadata": {},
   "source": [
    "### 3. (Medium) Use the grammys.csv data for the next section of questions.\n",
    "\n",
    "1. Who was won Album of the Year in 2016?\n",
    "\n",
    "\n",
    "2. Who won Best Rap Album in 2009?\n",
    "\n",
    "\n",
    "3. How many awards was Kendrick Lamar nomiated for, and how many did he win...?"
   ]
  },
  {
   "cell_type": "code",
   "execution_count": 56,
   "metadata": {},
   "outputs": [
    {
     "data": {
      "text/html": [
       "<div>\n",
       "<style scoped>\n",
       "    .dataframe tbody tr th:only-of-type {\n",
       "        vertical-align: middle;\n",
       "    }\n",
       "\n",
       "    .dataframe tbody tr th {\n",
       "        vertical-align: top;\n",
       "    }\n",
       "\n",
       "    .dataframe thead th {\n",
       "        text-align: right;\n",
       "    }\n",
       "</style>\n",
       "<table border=\"1\" class=\"dataframe\">\n",
       "  <thead>\n",
       "    <tr style=\"text-align: right;\">\n",
       "      <th></th>\n",
       "      <th>year</th>\n",
       "      <th>category</th>\n",
       "      <th>nominee</th>\n",
       "      <th>workers</th>\n",
       "      <th>winner</th>\n",
       "    </tr>\n",
       "  </thead>\n",
       "  <tbody>\n",
       "    <tr>\n",
       "      <th>0</th>\n",
       "      <td>1959</td>\n",
       "      <td>Album of the Year</td>\n",
       "      <td>The Music from Peter Gunn.</td>\n",
       "      <td>Henry Mancini</td>\n",
       "      <td>True</td>\n",
       "    </tr>\n",
       "    <tr>\n",
       "      <th>1</th>\n",
       "      <td>1959</td>\n",
       "      <td>Best Album Cover</td>\n",
       "      <td>Only the Lonely</td>\n",
       "      <td>Frank Sinatra (art director)</td>\n",
       "      <td>True</td>\n",
       "    </tr>\n",
       "    <tr>\n",
       "      <th>2</th>\n",
       "      <td>1959</td>\n",
       "      <td>Best Arrangement</td>\n",
       "      <td>The Music From Peter Gunn</td>\n",
       "      <td>Henry Mancini (artist/arranger)</td>\n",
       "      <td>True</td>\n",
       "    </tr>\n",
       "    <tr>\n",
       "      <th>3</th>\n",
       "      <td>1959</td>\n",
       "      <td>Best Classical Performance - Chamber Music (in...</td>\n",
       "      <td>Beethoven: Quartet 130</td>\n",
       "      <td>The Hollywood String Quartet, Paul Shure (arti...</td>\n",
       "      <td>True</td>\n",
       "    </tr>\n",
       "    <tr>\n",
       "      <th>4</th>\n",
       "      <td>1959</td>\n",
       "      <td>Best Classical Performance - Instrumentalist (...</td>\n",
       "      <td>Segovia Golden Jubilee</td>\n",
       "      <td>Andrés Segovia</td>\n",
       "      <td>True</td>\n",
       "    </tr>\n",
       "  </tbody>\n",
       "</table>\n",
       "</div>"
      ],
      "text/plain": [
       "   year                                           category  \\\n",
       "0  1959                                  Album of the Year   \n",
       "1  1959                                   Best Album Cover   \n",
       "2  1959                                   Best Arrangement   \n",
       "3  1959  Best Classical Performance - Chamber Music (in...   \n",
       "4  1959  Best Classical Performance - Instrumentalist (...   \n",
       "\n",
       "                      nominee  \\\n",
       "0  The Music from Peter Gunn.   \n",
       "1             Only the Lonely   \n",
       "2   The Music From Peter Gunn   \n",
       "3      Beethoven: Quartet 130   \n",
       "4      Segovia Golden Jubilee   \n",
       "\n",
       "                                             workers  winner  \n",
       "0                                      Henry Mancini    True  \n",
       "1                       Frank Sinatra (art director)    True  \n",
       "2                    Henry Mancini (artist/arranger)    True  \n",
       "3  The Hollywood String Quartet, Paul Shure (arti...    True  \n",
       "4                                     Andrés Segovia    True  "
      ]
     },
     "execution_count": 56,
     "metadata": {},
     "output_type": "execute_result"
    }
   ],
   "source": [
    "df = pd.read_csv(\"/workspaces/ds-fall-2025-fri-0630/Week-01-Pandas/data/grammys.csv\")\n",
    "df.head()"
   ]
  },
  {
   "cell_type": "code",
   "execution_count": 57,
   "metadata": {},
   "outputs": [
    {
     "name": "stdout",
     "output_type": "stream",
     "text": [
      "                                                workers nominee\n",
      "5505  Taylor Swift (artist/producer), Jack Antonoff ...   1989.\n"
     ]
    }
   ],
   "source": [
    "album_winner_2016 = df[(df[\"year\"] == 2016) & (df[\"category\"] == \"Album of the Year\") & (df[\"winner\"] == True)] \n",
    "print(album_winner_2016[[\"workers\", \"nominee\"]])"
   ]
  },
  {
   "cell_type": "code",
   "execution_count": 58,
   "metadata": {},
   "outputs": [
    {
     "name": "stdout",
     "output_type": "stream",
     "text": [
      "         workers         nominee\n",
      "4396  Lil' Wayne  Tha Carter III\n"
     ]
    }
   ],
   "source": [
    "best_rap_2009 = df[(df[\"year\"] == 2009) & (df[\"category\"] == \"Best Rap Album\") & (df[\"winner\"] == True)]\n",
    "print(best_rap_2009[[\"workers\", \"nominee\"]])"
   ]
  },
  {
   "cell_type": "code",
   "execution_count": 59,
   "metadata": {},
   "outputs": [
    {
     "name": "stdout",
     "output_type": "stream",
     "text": [
      "Nominations:  2\n",
      "Wins:  1\n"
     ]
    }
   ],
   "source": [
    "nominations_kl = df[df[\"nominee\"].str.contains(\"Kendrick Lamar\", na = False)]\n",
    "nominations_kl_count = len(nominations_kl)\n",
    "win_count = nominations_kl[\"winner\"].sum()\n",
    "print(\"Nominations: \", nominations_kl_count)\n",
    "print(\"Wins: \", win_count)"
   ]
  },
  {
   "cell_type": "markdown",
   "metadata": {},
   "source": [
    "### (Hard) Load the Game Logs for 2022 and add the column names using a dictionary.  \n",
    "* [Link to the data page](https://www.retrosheet.org/gamelogs/)\n",
    "* [Link to the column names](https://procatinator.com/)\n",
    "* haha, gotta find them yourself!"
   ]
  },
  {
   "cell_type": "code",
   "execution_count": 60,
   "metadata": {},
   "outputs": [],
   "source": [
    "import pandas as pd"
   ]
  },
  {
   "cell_type": "code",
   "execution_count": 61,
   "metadata": {},
   "outputs": [
    {
     "name": "stdout",
     "output_type": "stream",
     "text": [
      "        0    1    2    3   4    5    6   7    8    9    ...              151  \\\n",
      "0  20220407    0  Thu  SDN  NL    1  ARI  NL    1    2  ...        Seth Beer   \n",
      "1  20220407    0  Thu  CIN  NL    1  ATL  NL    1    6  ...  Travis d'Arnaud   \n",
      "2  20220407    0  Thu  MIL  NL    1  CHN  NL    1    4  ...    Jason Heyward   \n",
      "3  20220407    0  Thu  PIT  NL    1  SLN  NL    1    0  ...    Yadier Molina   \n",
      "4  20220407    0  Thu  NYN  NL    1  WAS  NL    1    5  ...    Maikel Franco   \n",
      "\n",
      "   152       153              154  155       156              157  158  159  \\\n",
      "0   10  ellid002       Drew Ellis    5  perdg001  Gerardo Perdomo    6  NaN   \n",
      "1    2  dicka001   Alex Dickerson   10  swand001   Dansby Swanson    6  NaN   \n",
      "2    8  wisdp001   Patrick Wisdom    5  hoern001     Nico Hoerner    6  NaN   \n",
      "3    2  badeh001   Harrison Bader    8  edmat001      Tommy Edman    4  NaN   \n",
      "4    5  escoa003  Alcides Escobar    6  roblv001    Victor Robles    8  NaN   \n",
      "\n",
      "  160  \n",
      "0   Y  \n",
      "1   Y  \n",
      "2   Y  \n",
      "3   Y  \n",
      "4   Y  \n",
      "\n",
      "[5 rows x 161 columns]\n"
     ]
    }
   ],
   "source": [
    "df_games = pd.read_csv(\"/workspaces/ds-fall-2025-fri-0630/Week-01-Pandas/data/gamelogs/gl2022.txt\", header = None)\n",
    "print(df_games.head())"
   ]
  },
  {
   "cell_type": "markdown",
   "metadata": {},
   "source": [
    "my source : https://www.retrosheet.org/gamelogs/glfields.txt"
   ]
  },
  {
   "cell_type": "code",
   "execution_count": 62,
   "metadata": {},
   "outputs": [],
   "source": [
    "column_list = [\n",
    "    \"date\", \"number_of_game\", \"day_of_week\", \"visiting_team\", \"visiting_league\",\n",
    "    \"visiting_game_number\", \"home_team\", \"home_league\", \"home_game_number\",\n",
    "    \"visitor_score\", \"home_score\", \"length_of_game_outs\", \"day_night\", \"completion\",\n",
    "    \"forfeit\", \"protest\", \"park_id\", \"attendance\", \"time_of_game_minutes\",\n",
    "    \"visitor_line_score\", \"home_line_score\", \"visitor_ab\", \"visitor_hits\",\n",
    "    \"visitor_doubles\", \"visitor_triples\", \"visitor_homeruns\", \"visitor_rbi\",\n",
    "    \"visitor_sac_hits\", \"visitor_sac_flies\", \"visitor_hbp\", \"visitor_bb\",\n",
    "    \"visitor_ibb\", \"visitor_k\", \"visitor_sb\", \"visitor_cs\", \"visitor_gdp\",\n",
    "    \"visitor_ci\", \"visitor_lob\", \"visitor_pitchers\", \"visitor_er\", \"visitor_wp\",\n",
    "    \"visitor_balks\", \"visitor_po\", \"visitor_a\", \"visitor_errors\", \"visitor_pb\",\n",
    "    \"visitor_dp\", \"visitor_tp\", \"home_ab\", \"home_hits\", \"home_doubles\",\n",
    "    \"home_triples\", \"home_homeruns\", \"home_rbi\", \"home_sac_hits\", \"home_sac_flies\",\n",
    "    \"home_hbp\", \"home_bb\", \"home_ibb\", \"home_k\", \"home_sb\", \"home_cs\", \"home_gdp\",\n",
    "    \"home_ci\", \"home_lob\", \"home_pitchers\", \"home_er\", \"home_wp\", \"home_balks\",\n",
    "    \"home_po\", \"home_a\", \"home_errors\", \"home_pb\", \"home_dp\", \"home_tp\",\n",
    "    \"ump_home_id\", \"ump_home_name\", \"ump_1b_id\", \"ump_1b_name\", \"ump_2b_id\",\n",
    "    \"ump_2b_name\", \"ump_3b_id\", \"ump_3b_name\", \"ump_lf_id\", \"ump_lf_name\",\n",
    "    \"ump_rf_id\", \"ump_rf_name\", \"visiting_manager_id\", \"visiting_manager_name\",\n",
    "    \"home_manager_id\", \"home_manager_name\", \"winning_pitcher_id\",\n",
    "    \"winning_pitcher_name\", \"losing_pitcher_id\", \"losing_pitcher_name\",\n",
    "    \"saving_pitcher_id\", \"saving_pitcher_name\", \"game_winning_rbi_id\",\n",
    "    \"game_winning_rbi_name\", \"visitor_starting_pitcher_id\",\n",
    "    \"visitor_starting_pitcher_name\", \"home_starting_pitcher_id\",\n",
    "    \"home_starting_pitcher_name\", \"visitor_player1_id\", \"visitor_player1_name\",\n",
    "    \"visitor_player1_def_pos\", \"visitor_player2_id\", \"visitor_player2_name\",\n",
    "    \"visitor_player2_def_pos\", \"visitor_player3_id\", \"visitor_player3_name\",\n",
    "    \"visitor_player3_def_pos\", \"visitor_player4_id\", \"visitor_player4_name\",\n",
    "    \"visitor_player4_def_pos\", \"visitor_player5_id\", \"visitor_player5_name\",\n",
    "    \"visitor_player5_def_pos\", \"visitor_player6_id\", \"visitor_player6_name\",\n",
    "    \"visitor_player6_def_pos\", \"visitor_player7_id\", \"visitor_player7_name\",\n",
    "    \"visitor_player7_def_pos\", \"visitor_player8_id\", \"visitor_player8_name\",\n",
    "    \"visitor_player8_def_pos\", \"visitor_player9_id\", \"visitor_player9_name\",\n",
    "    \"visitor_player9_def_pos\", \"home_player1_id\", \"home_player1_name\",\n",
    "    \"home_player1_def_pos\", \"home_player2_id\", \"home_player2_name\",\n",
    "    \"home_player2_def_pos\", \"home_player3_id\", \"home_player3_name\",\n",
    "    \"home_player3_def_pos\", \"home_player4_id\", \"home_player4_name\",\n",
    "    \"home_player4_def_pos\", \"home_player5_id\", \"home_player5_name\",\n",
    "    \"home_player5_def_pos\", \"home_player6_id\", \"home_player6_name\",\n",
    "    \"home_player6_def_pos\", \"home_player7_id\", \"home_player7_name\",\n",
    "    \"home_player7_def_pos\", \"home_player8_id\", \"home_player8_name\",\n",
    "    \"home_player8_def_pos\", \"home_player9_id\", \"home_player9_name\",\n",
    "    \"home_player9_def_pos\", \"additional_info\", \"acquisition_info\"\n",
    "]"
   ]
  },
  {
   "cell_type": "code",
   "execution_count": 63,
   "metadata": {},
   "outputs": [],
   "source": [
    "col_dict = {i: name for i, name in enumerate(column_list)}\n",
    "df_games = df_games.rename(columns=col_dict)"
   ]
  },
  {
   "cell_type": "code",
   "execution_count": 64,
   "metadata": {},
   "outputs": [
    {
     "name": "stdout",
     "output_type": "stream",
     "text": [
      "       date  number_of_game day_of_week visiting_team visiting_league  \\\n",
      "0  20220407               0         Thu           SDN              NL   \n",
      "1  20220407               0         Thu           CIN              NL   \n",
      "2  20220407               0         Thu           MIL              NL   \n",
      "3  20220407               0         Thu           PIT              NL   \n",
      "4  20220407               0         Thu           NYN              NL   \n",
      "\n",
      "   visiting_game_number home_team home_league  home_game_number  \\\n",
      "0                     1       ARI          NL                 1   \n",
      "1                     1       ATL          NL                 1   \n",
      "2                     1       CHN          NL                 1   \n",
      "3                     1       SLN          NL                 1   \n",
      "4                     1       WAS          NL                 1   \n",
      "\n",
      "   visitor_score  ...  home_player8_id  home_player8_name  \\\n",
      "0              2  ...        Seth Beer                 10   \n",
      "1              6  ...  Travis d'Arnaud                  2   \n",
      "2              4  ...    Jason Heyward                  8   \n",
      "3              0  ...    Yadier Molina                  2   \n",
      "4              5  ...    Maikel Franco                  5   \n",
      "\n",
      "  home_player8_def_pos  home_player9_id  home_player9_name  \\\n",
      "0             ellid002       Drew Ellis                  5   \n",
      "1             dicka001   Alex Dickerson                 10   \n",
      "2             wisdp001   Patrick Wisdom                  5   \n",
      "3             badeh001   Harrison Bader                  8   \n",
      "4             escoa003  Alcides Escobar                  6   \n",
      "\n",
      "   home_player9_def_pos  additional_info  acquisition_info  159 160  \n",
      "0              perdg001  Gerardo Perdomo                 6  NaN   Y  \n",
      "1              swand001   Dansby Swanson                 6  NaN   Y  \n",
      "2              hoern001     Nico Hoerner                 6  NaN   Y  \n",
      "3              edmat001      Tommy Edman                 4  NaN   Y  \n",
      "4              roblv001    Victor Robles                 8  NaN   Y  \n",
      "\n",
      "[5 rows x 161 columns]\n"
     ]
    }
   ],
   "source": [
    "print(df_games.head())"
   ]
  },
  {
   "cell_type": "markdown",
   "metadata": {},
   "source": [
    "### (Extra Hard) Download the files for the past 5 years into a new folder and add them all into one data frame using pandas, then save that new file.\n",
    "* Try to not hard code in the file names. We want to do this programmatically because what if we want to add new/more file names in the future."
   ]
  },
  {
   "cell_type": "code",
   "execution_count": 65,
   "metadata": {},
   "outputs": [],
   "source": [
    "import os"
   ]
  },
  {
   "cell_type": "code",
   "execution_count": 66,
   "metadata": {},
   "outputs": [],
   "source": [
    "path = \"/workspaces/ds-fall-2025-fri-0630/Week-01-Pandas/data/gamelogs/\""
   ]
  },
  {
   "cell_type": "code",
   "execution_count": 67,
   "metadata": {},
   "outputs": [
    {
     "name": "stdout",
     "output_type": "stream",
     "text": [
      "Files found: ['gl2020.txt', 'gl2021.txt', 'gl2022.txt', 'gl2024.txt', 'gamelogs_2020_4.csv', 'gl2023.txt']\n"
     ]
    }
   ],
   "source": [
    "files = os.listdir(path)\n",
    "print(\"Files found:\", files)"
   ]
  },
  {
   "cell_type": "code",
   "execution_count": 68,
   "metadata": {},
   "outputs": [],
   "source": [
    "all_dfs = []\n",
    "for file in files:\n",
    "    if file.endswith(\".txt\"): \n",
    "        temp_df = pd.read_csv(path + file, header=None)\n",
    "        all_dfs.append(temp_df)"
   ]
  },
  {
   "cell_type": "code",
   "execution_count": 69,
   "metadata": {},
   "outputs": [],
   "source": [
    "df_all = pd.concat(all_dfs, ignore_index=True)"
   ]
  },
  {
   "cell_type": "code",
   "execution_count": 70,
   "metadata": {},
   "outputs": [
    {
     "data": {
      "text/html": [
       "<div>\n",
       "<style scoped>\n",
       "    .dataframe tbody tr th:only-of-type {\n",
       "        vertical-align: middle;\n",
       "    }\n",
       "\n",
       "    .dataframe tbody tr th {\n",
       "        vertical-align: top;\n",
       "    }\n",
       "\n",
       "    .dataframe thead th {\n",
       "        text-align: right;\n",
       "    }\n",
       "</style>\n",
       "<table border=\"1\" class=\"dataframe\">\n",
       "  <thead>\n",
       "    <tr style=\"text-align: right;\">\n",
       "      <th></th>\n",
       "      <th>0</th>\n",
       "      <th>1</th>\n",
       "      <th>2</th>\n",
       "      <th>3</th>\n",
       "      <th>4</th>\n",
       "      <th>5</th>\n",
       "      <th>6</th>\n",
       "      <th>7</th>\n",
       "      <th>8</th>\n",
       "      <th>9</th>\n",
       "      <th>...</th>\n",
       "      <th>151</th>\n",
       "      <th>152</th>\n",
       "      <th>153</th>\n",
       "      <th>154</th>\n",
       "      <th>155</th>\n",
       "      <th>156</th>\n",
       "      <th>157</th>\n",
       "      <th>158</th>\n",
       "      <th>159</th>\n",
       "      <th>160</th>\n",
       "    </tr>\n",
       "  </thead>\n",
       "  <tbody>\n",
       "    <tr>\n",
       "      <th>0</th>\n",
       "      <td>20200723</td>\n",
       "      <td>0</td>\n",
       "      <td>Thu</td>\n",
       "      <td>SFN</td>\n",
       "      <td>NL</td>\n",
       "      <td>1</td>\n",
       "      <td>LAN</td>\n",
       "      <td>NL</td>\n",
       "      <td>1</td>\n",
       "      <td>1</td>\n",
       "      <td>...</td>\n",
       "      <td>Joc Pederson</td>\n",
       "      <td>7</td>\n",
       "      <td>polla001</td>\n",
       "      <td>A.J. Pollock</td>\n",
       "      <td>10</td>\n",
       "      <td>barna001</td>\n",
       "      <td>Austin Barnes</td>\n",
       "      <td>2</td>\n",
       "      <td>NaN</td>\n",
       "      <td>Y</td>\n",
       "    </tr>\n",
       "    <tr>\n",
       "      <th>1</th>\n",
       "      <td>20200723</td>\n",
       "      <td>0</td>\n",
       "      <td>Thu</td>\n",
       "      <td>NYA</td>\n",
       "      <td>AL</td>\n",
       "      <td>1</td>\n",
       "      <td>WAS</td>\n",
       "      <td>NL</td>\n",
       "      <td>1</td>\n",
       "      <td>4</td>\n",
       "      <td>...</td>\n",
       "      <td>Asdrubal Cabrera</td>\n",
       "      <td>5</td>\n",
       "      <td>steva001</td>\n",
       "      <td>Andrew Stevenson</td>\n",
       "      <td>7</td>\n",
       "      <td>roblv001</td>\n",
       "      <td>Victor Robles</td>\n",
       "      <td>8</td>\n",
       "      <td>NaN</td>\n",
       "      <td>Y</td>\n",
       "    </tr>\n",
       "    <tr>\n",
       "      <th>2</th>\n",
       "      <td>20200724</td>\n",
       "      <td>0</td>\n",
       "      <td>Fri</td>\n",
       "      <td>MIL</td>\n",
       "      <td>NL</td>\n",
       "      <td>1</td>\n",
       "      <td>CHN</td>\n",
       "      <td>NL</td>\n",
       "      <td>1</td>\n",
       "      <td>0</td>\n",
       "      <td>...</td>\n",
       "      <td>Victor Caratini</td>\n",
       "      <td>10</td>\n",
       "      <td>hoern001</td>\n",
       "      <td>Nico Hoerner</td>\n",
       "      <td>4</td>\n",
       "      <td>happi001</td>\n",
       "      <td>Ian Happ</td>\n",
       "      <td>8</td>\n",
       "      <td>NaN</td>\n",
       "      <td>Y</td>\n",
       "    </tr>\n",
       "    <tr>\n",
       "      <th>3</th>\n",
       "      <td>20200724</td>\n",
       "      <td>0</td>\n",
       "      <td>Fri</td>\n",
       "      <td>DET</td>\n",
       "      <td>AL</td>\n",
       "      <td>1</td>\n",
       "      <td>CIN</td>\n",
       "      <td>NL</td>\n",
       "      <td>1</td>\n",
       "      <td>1</td>\n",
       "      <td>...</td>\n",
       "      <td>Nick Senzel</td>\n",
       "      <td>8</td>\n",
       "      <td>galvf001</td>\n",
       "      <td>Freddy Galvis</td>\n",
       "      <td>6</td>\n",
       "      <td>casac001</td>\n",
       "      <td>Curt Casali</td>\n",
       "      <td>2</td>\n",
       "      <td>NaN</td>\n",
       "      <td>Y</td>\n",
       "    </tr>\n",
       "    <tr>\n",
       "      <th>4</th>\n",
       "      <td>20200724</td>\n",
       "      <td>0</td>\n",
       "      <td>Fri</td>\n",
       "      <td>SFN</td>\n",
       "      <td>NL</td>\n",
       "      <td>2</td>\n",
       "      <td>LAN</td>\n",
       "      <td>NL</td>\n",
       "      <td>2</td>\n",
       "      <td>1</td>\n",
       "      <td>...</td>\n",
       "      <td>Chris Taylor</td>\n",
       "      <td>7</td>\n",
       "      <td>pedej001</td>\n",
       "      <td>Joc Pederson</td>\n",
       "      <td>10</td>\n",
       "      <td>smitw003</td>\n",
       "      <td>Will Smith</td>\n",
       "      <td>2</td>\n",
       "      <td>NaN</td>\n",
       "      <td>Y</td>\n",
       "    </tr>\n",
       "  </tbody>\n",
       "</table>\n",
       "<p>5 rows × 161 columns</p>\n",
       "</div>"
      ],
      "text/plain": [
       "        0    1    2    3   4    5    6   7    8    9    ...               151  \\\n",
       "0  20200723    0  Thu  SFN  NL    1  LAN  NL    1    1  ...      Joc Pederson   \n",
       "1  20200723    0  Thu  NYA  AL    1  WAS  NL    1    4  ...  Asdrubal Cabrera   \n",
       "2  20200724    0  Fri  MIL  NL    1  CHN  NL    1    0  ...   Victor Caratini   \n",
       "3  20200724    0  Fri  DET  AL    1  CIN  NL    1    1  ...       Nick Senzel   \n",
       "4  20200724    0  Fri  SFN  NL    2  LAN  NL    2    1  ...      Chris Taylor   \n",
       "\n",
       "   152       153               154  155       156            157  158  159 160  \n",
       "0    7  polla001      A.J. Pollock   10  barna001  Austin Barnes    2  NaN   Y  \n",
       "1    5  steva001  Andrew Stevenson    7  roblv001  Victor Robles    8  NaN   Y  \n",
       "2   10  hoern001      Nico Hoerner    4  happi001       Ian Happ    8  NaN   Y  \n",
       "3    8  galvf001     Freddy Galvis    6  casac001    Curt Casali    2  NaN   Y  \n",
       "4    7  pedej001      Joc Pederson   10  smitw003     Will Smith    2  NaN   Y  \n",
       "\n",
       "[5 rows x 161 columns]"
      ]
     },
     "execution_count": 70,
     "metadata": {},
     "output_type": "execute_result"
    }
   ],
   "source": [
    "df_all.head()"
   ]
  },
  {
   "cell_type": "code",
   "execution_count": 71,
   "metadata": {},
   "outputs": [],
   "source": [
    "col_dict = {i: name for i, name in enumerate(column_list)}\n",
    "df_all = df_all.rename(columns=col_dict)"
   ]
  },
  {
   "cell_type": "code",
   "execution_count": 72,
   "metadata": {},
   "outputs": [
    {
     "data": {
      "text/html": [
       "<div>\n",
       "<style scoped>\n",
       "    .dataframe tbody tr th:only-of-type {\n",
       "        vertical-align: middle;\n",
       "    }\n",
       "\n",
       "    .dataframe tbody tr th {\n",
       "        vertical-align: top;\n",
       "    }\n",
       "\n",
       "    .dataframe thead th {\n",
       "        text-align: right;\n",
       "    }\n",
       "</style>\n",
       "<table border=\"1\" class=\"dataframe\">\n",
       "  <thead>\n",
       "    <tr style=\"text-align: right;\">\n",
       "      <th></th>\n",
       "      <th>date</th>\n",
       "      <th>number_of_game</th>\n",
       "      <th>day_of_week</th>\n",
       "      <th>visiting_team</th>\n",
       "      <th>visiting_league</th>\n",
       "      <th>visiting_game_number</th>\n",
       "      <th>home_team</th>\n",
       "      <th>home_league</th>\n",
       "      <th>home_game_number</th>\n",
       "      <th>visitor_score</th>\n",
       "      <th>...</th>\n",
       "      <th>home_player8_id</th>\n",
       "      <th>home_player8_name</th>\n",
       "      <th>home_player8_def_pos</th>\n",
       "      <th>home_player9_id</th>\n",
       "      <th>home_player9_name</th>\n",
       "      <th>home_player9_def_pos</th>\n",
       "      <th>additional_info</th>\n",
       "      <th>acquisition_info</th>\n",
       "      <th>159</th>\n",
       "      <th>160</th>\n",
       "    </tr>\n",
       "  </thead>\n",
       "  <tbody>\n",
       "    <tr>\n",
       "      <th>0</th>\n",
       "      <td>20200723</td>\n",
       "      <td>0</td>\n",
       "      <td>Thu</td>\n",
       "      <td>SFN</td>\n",
       "      <td>NL</td>\n",
       "      <td>1</td>\n",
       "      <td>LAN</td>\n",
       "      <td>NL</td>\n",
       "      <td>1</td>\n",
       "      <td>1</td>\n",
       "      <td>...</td>\n",
       "      <td>Joc Pederson</td>\n",
       "      <td>7</td>\n",
       "      <td>polla001</td>\n",
       "      <td>A.J. Pollock</td>\n",
       "      <td>10</td>\n",
       "      <td>barna001</td>\n",
       "      <td>Austin Barnes</td>\n",
       "      <td>2</td>\n",
       "      <td>NaN</td>\n",
       "      <td>Y</td>\n",
       "    </tr>\n",
       "    <tr>\n",
       "      <th>1</th>\n",
       "      <td>20200723</td>\n",
       "      <td>0</td>\n",
       "      <td>Thu</td>\n",
       "      <td>NYA</td>\n",
       "      <td>AL</td>\n",
       "      <td>1</td>\n",
       "      <td>WAS</td>\n",
       "      <td>NL</td>\n",
       "      <td>1</td>\n",
       "      <td>4</td>\n",
       "      <td>...</td>\n",
       "      <td>Asdrubal Cabrera</td>\n",
       "      <td>5</td>\n",
       "      <td>steva001</td>\n",
       "      <td>Andrew Stevenson</td>\n",
       "      <td>7</td>\n",
       "      <td>roblv001</td>\n",
       "      <td>Victor Robles</td>\n",
       "      <td>8</td>\n",
       "      <td>NaN</td>\n",
       "      <td>Y</td>\n",
       "    </tr>\n",
       "    <tr>\n",
       "      <th>2</th>\n",
       "      <td>20200724</td>\n",
       "      <td>0</td>\n",
       "      <td>Fri</td>\n",
       "      <td>MIL</td>\n",
       "      <td>NL</td>\n",
       "      <td>1</td>\n",
       "      <td>CHN</td>\n",
       "      <td>NL</td>\n",
       "      <td>1</td>\n",
       "      <td>0</td>\n",
       "      <td>...</td>\n",
       "      <td>Victor Caratini</td>\n",
       "      <td>10</td>\n",
       "      <td>hoern001</td>\n",
       "      <td>Nico Hoerner</td>\n",
       "      <td>4</td>\n",
       "      <td>happi001</td>\n",
       "      <td>Ian Happ</td>\n",
       "      <td>8</td>\n",
       "      <td>NaN</td>\n",
       "      <td>Y</td>\n",
       "    </tr>\n",
       "    <tr>\n",
       "      <th>3</th>\n",
       "      <td>20200724</td>\n",
       "      <td>0</td>\n",
       "      <td>Fri</td>\n",
       "      <td>DET</td>\n",
       "      <td>AL</td>\n",
       "      <td>1</td>\n",
       "      <td>CIN</td>\n",
       "      <td>NL</td>\n",
       "      <td>1</td>\n",
       "      <td>1</td>\n",
       "      <td>...</td>\n",
       "      <td>Nick Senzel</td>\n",
       "      <td>8</td>\n",
       "      <td>galvf001</td>\n",
       "      <td>Freddy Galvis</td>\n",
       "      <td>6</td>\n",
       "      <td>casac001</td>\n",
       "      <td>Curt Casali</td>\n",
       "      <td>2</td>\n",
       "      <td>NaN</td>\n",
       "      <td>Y</td>\n",
       "    </tr>\n",
       "    <tr>\n",
       "      <th>4</th>\n",
       "      <td>20200724</td>\n",
       "      <td>0</td>\n",
       "      <td>Fri</td>\n",
       "      <td>SFN</td>\n",
       "      <td>NL</td>\n",
       "      <td>2</td>\n",
       "      <td>LAN</td>\n",
       "      <td>NL</td>\n",
       "      <td>2</td>\n",
       "      <td>1</td>\n",
       "      <td>...</td>\n",
       "      <td>Chris Taylor</td>\n",
       "      <td>7</td>\n",
       "      <td>pedej001</td>\n",
       "      <td>Joc Pederson</td>\n",
       "      <td>10</td>\n",
       "      <td>smitw003</td>\n",
       "      <td>Will Smith</td>\n",
       "      <td>2</td>\n",
       "      <td>NaN</td>\n",
       "      <td>Y</td>\n",
       "    </tr>\n",
       "  </tbody>\n",
       "</table>\n",
       "<p>5 rows × 161 columns</p>\n",
       "</div>"
      ],
      "text/plain": [
       "       date  number_of_game day_of_week visiting_team visiting_league  \\\n",
       "0  20200723               0         Thu           SFN              NL   \n",
       "1  20200723               0         Thu           NYA              AL   \n",
       "2  20200724               0         Fri           MIL              NL   \n",
       "3  20200724               0         Fri           DET              AL   \n",
       "4  20200724               0         Fri           SFN              NL   \n",
       "\n",
       "   visiting_game_number home_team home_league  home_game_number  \\\n",
       "0                     1       LAN          NL                 1   \n",
       "1                     1       WAS          NL                 1   \n",
       "2                     1       CHN          NL                 1   \n",
       "3                     1       CIN          NL                 1   \n",
       "4                     2       LAN          NL                 2   \n",
       "\n",
       "   visitor_score  ...   home_player8_id  home_player8_name  \\\n",
       "0              1  ...      Joc Pederson                  7   \n",
       "1              4  ...  Asdrubal Cabrera                  5   \n",
       "2              0  ...   Victor Caratini                 10   \n",
       "3              1  ...       Nick Senzel                  8   \n",
       "4              1  ...      Chris Taylor                  7   \n",
       "\n",
       "  home_player8_def_pos   home_player9_id  home_player9_name  \\\n",
       "0             polla001      A.J. Pollock                 10   \n",
       "1             steva001  Andrew Stevenson                  7   \n",
       "2             hoern001      Nico Hoerner                  4   \n",
       "3             galvf001     Freddy Galvis                  6   \n",
       "4             pedej001      Joc Pederson                 10   \n",
       "\n",
       "   home_player9_def_pos additional_info  acquisition_info  159 160  \n",
       "0              barna001   Austin Barnes                 2  NaN   Y  \n",
       "1              roblv001   Victor Robles                 8  NaN   Y  \n",
       "2              happi001        Ian Happ                 8  NaN   Y  \n",
       "3              casac001     Curt Casali                 2  NaN   Y  \n",
       "4              smitw003      Will Smith                 2  NaN   Y  \n",
       "\n",
       "[5 rows x 161 columns]"
      ]
     },
     "execution_count": 72,
     "metadata": {},
     "output_type": "execute_result"
    }
   ],
   "source": [
    "df_all.head()"
   ]
  },
  {
   "cell_type": "code",
   "execution_count": 73,
   "metadata": {},
   "outputs": [],
   "source": [
    "df_all.to_csv(path + \"gamelogs_2020_4.csv\", index = False)"
   ]
  }
 ],
 "metadata": {
  "kernelspec": {
   "display_name": "Python 3",
   "language": "python",
   "name": "python3"
  },
  "language_info": {
   "codemirror_mode": {
    "name": "ipython",
    "version": 3
   },
   "file_extension": ".py",
   "mimetype": "text/x-python",
   "name": "python",
   "nbconvert_exporter": "python",
   "pygments_lexer": "ipython3",
   "version": "3.12.1"
  }
 },
 "nbformat": 4,
 "nbformat_minor": 4
}
